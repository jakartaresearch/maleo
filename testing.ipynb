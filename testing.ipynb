{
 "cells": [
  {
   "cell_type": "code",
   "execution_count": 1,
   "metadata": {},
   "outputs": [],
   "source": [
    "from maleo.cleansing import Wizard"
   ]
  },
  {
   "cell_type": "code",
   "execution_count": 2,
   "metadata": {},
   "outputs": [],
   "source": [
    "import pandas as pd\n",
    "string_text = 'http:rubenstefanus.com mau makan apa nih'\n",
    "list_text = ['   halooooo    guysss    apa   kabar    kaliann ?', 'gw kangen, deh u u u sama anda semua!',\n",
    "             'testing 1 + 2 lima enam', '1 2 3 + - *', 'tunggu TUNGGU gwww yaaa', 'u U g G a b Q wkwk',\n",
    "             'ruben@warungpintar.co adalah email kantor gw']\n",
    "series_text = pd.Series(list_text)"
   ]
  },
  {
   "cell_type": "code",
   "execution_count": 3,
   "metadata": {},
   "outputs": [],
   "source": [
    "obj = Wizard()"
   ]
  },
  {
   "cell_type": "code",
   "execution_count": 4,
   "metadata": {},
   "outputs": [
    {
     "data": {
      "text/plain": [
       "0             halo guys apa kabar kalian\n",
       "1    gw kangen deh u u u sama anda semua\n",
       "2                  testing 1 2 lima enam\n",
       "3                                  1 2 3\n",
       "4                    tunggu TUNGGU gw ya\n",
       "5                         u U g G b wkwk\n",
       "6           EMAIL adalah email kantor gw\n",
       "dtype: object"
      ]
     },
     "execution_count": 4,
     "metadata": {},
     "output_type": "execute_result"
    }
   ],
   "source": [
    "obj.run(series_text)"
   ]
  },
  {
   "cell_type": "code",
   "execution_count": null,
   "metadata": {},
   "outputs": [],
   "source": []
  },
  {
   "cell_type": "code",
   "execution_count": null,
   "metadata": {},
   "outputs": [],
   "source": []
  }
 ],
 "metadata": {
  "kernelspec": {
   "display_name": "Python 3",
   "language": "python",
   "name": "python3"
  },
  "language_info": {
   "codemirror_mode": {
    "name": "ipython",
    "version": 3
   },
   "file_extension": ".py",
   "mimetype": "text/x-python",
   "name": "python",
   "nbconvert_exporter": "python",
   "pygments_lexer": "ipython3",
   "version": "3.8.3"
  }
 },
 "nbformat": 4,
 "nbformat_minor": 4
}
