{
 "cells": [
  {
   "cell_type": "code",
   "execution_count": 1,
   "metadata": {},
   "outputs": [],
   "source": [
    "from maleo.wizard import Wizard\n",
    "import pandas as pd"
   ]
  },
  {
   "cell_type": "code",
   "execution_count": 2,
   "metadata": {},
   "outputs": [],
   "source": [
    "a = '   halooooo    guysss    apa   kabar    kaliann ?'\n",
    "b = 'gw kangen, deh u u u sama anda semua!'\n",
    "c = 'testing 1 + 2 lima enam 1 2 3 + - *'\n",
    "d = 'tunggu TUNGGU gwww yaaa u U g G a b Q wkwk'\n",
    "e = 'rstezz16@gmail.com adalah email kantor gw'\n",
    "text_with_emojis = \"I love ⚽ very much 😁.\"\n",
    "text_with_a_number = '2833047 people live in this area. It is not a good area.'\n",
    "text_with_two_numbers = '2833047 and 1111 people live in this area.'\n",
    "text_with_punctuations = \"This sentence doesn't seem to too many commas, periods or semi-colons (;).\"\n",
    "text_with_a_date = \"Todays date is 04/28/2020 for format mm/dd/yyyy, not 28/04/2020.\"\n",
    "text_with_dates = \"Todays date is 28/04/2020 and tomorrow's date is 29/04/2020.\"\n",
    "text_with_duplicates = 'Everyone here is so hardworking. Hardworking people. I think hardworking people are a good trait in our company.'"
   ]
  },
  {
   "cell_type": "code",
   "execution_count": 3,
   "metadata": {},
   "outputs": [],
   "source": [
    "data = [a, b, c, d, e, text_with_emojis, text_with_a_number, text_with_two_numbers, \n",
    "        text_with_punctuations, text_with_a_date, text_with_dates, text_with_duplicates]\n",
    "df = pd.DataFrame(data, columns=['text'])"
   ]
  },
  {
   "cell_type": "code",
   "execution_count": 4,
   "metadata": {},
   "outputs": [],
   "source": [
    "wiz = Wizard()"
   ]
  },
  {
   "cell_type": "code",
   "execution_count": 6,
   "metadata": {},
   "outputs": [
    {
     "name": "stdout",
     "output_type": "stream",
     "text": [
      "params: {}\n"
     ]
    }
   ],
   "source": [
    "df_scan = wiz.scan_text(df, 'text')"
   ]
  },
  {
   "cell_type": "code",
   "execution_count": 7,
   "metadata": {},
   "outputs": [
    {
     "data": {
      "text/plain": [
       "0                                            guys kabar\n",
       "1                                         gw kangen deh\n",
       "2                                testing 1 2 enam 1 2 3\n",
       "3                             tunggu TUNGGU gw U G wkwk\n",
       "4                     rstez16 gmail com email kantor gw\n",
       "5                                      I love very much\n",
       "6     283047 people live in this area It is not god ...\n",
       "7                 283047 and 1 people live in this area\n",
       "8     This sentence doesn sem to to many comas perio...\n",
       "9     Todays date is 04 28 2020 for format not 28 04...\n",
       "10    Todays date is 28 04 2020 and tomorow date is ...\n",
       "11    Everyone here is so hardworking Hardworking pe...\n",
       "dtype: object"
      ]
     },
     "execution_count": 7,
     "metadata": {},
     "output_type": "execute_result"
    }
   ],
   "source": [
    "wiz.apply(df.text)"
   ]
  },
  {
   "cell_type": "code",
   "execution_count": null,
   "metadata": {},
   "outputs": [],
   "source": []
  }
 ],
 "metadata": {
  "kernelspec": {
   "display_name": "Python 3",
   "language": "python",
   "name": "python3"
  },
  "language_info": {
   "codemirror_mode": {
    "name": "ipython",
    "version": 3
   },
   "file_extension": ".py",
   "mimetype": "text/x-python",
   "name": "python",
   "nbconvert_exporter": "python",
   "pygments_lexer": "ipython3",
   "version": "3.8.3"
  }
 },
 "nbformat": 4,
 "nbformat_minor": 4
}
