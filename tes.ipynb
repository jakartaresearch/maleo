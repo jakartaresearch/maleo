{
 "cells": [
  {
   "cell_type": "code",
   "execution_count": 1,
   "metadata": {},
   "outputs": [],
   "source": [
    "from maleo.wizard import Wizard\n",
    "import pandas as pd"
   ]
  },
  {
   "cell_type": "code",
   "execution_count": 2,
   "metadata": {},
   "outputs": [],
   "source": [
    "a = '   halooooo    guysss    apa   kabar    kaliann ? +62 361 222777'\n",
    "b = 'gw kangen, deh u u u sama anda semua! +628814579576' \n",
    "c = 'testing 1 + 2 lima enam 1 2 3 + - * #ggwp #gw'\n",
    "d = 'tunggu TUNGGU gwww yaaa u U g G a b Q wkwk'\n",
    "e = 'Rp 20.000  aja rstezz16@gmail.com adalah email kantor gw #coba2'\n",
    "text_with_emojis = \"I love ⚽ very much 😁.\"\n",
    "text_with_a_number = '2833047 people live in this area. It is not a good area.'\n",
    "text_with_two_numbers = '2833047 and 1111 people live in this area.'\n",
    "text_with_punctuations = \"This sentence doesn't seem to too many commas, periods or semi-colons (;).\"\n",
    "text_with_a_date = \"Todays date is 04/28/2020 for format mm/dd/yyyy, not 28/04/2020.\"\n",
    "text_with_dates = \"Todays date is 28/04/2020 and tomorrow's date is 29/04/2020.\"\n",
    "text_with_duplicates = 'Everyone here is so hardworking. Hardworking people. I think hardworking people are a good trait in our company.'\n",
    "emoticon = 'one thousand Good Morning guys :-) :)'\n",
    "link = 'zz https://towardsdatascience.com/essential-text-correction-process-for-nlp-tasks-f731a025fcc3'"
   ]
  },
  {
   "cell_type": "code",
   "execution_count": 3,
   "metadata": {},
   "outputs": [],
   "source": [
    "data = [a, b, c, d, e, text_with_emojis, text_with_a_number, text_with_two_numbers, \n",
    "        text_with_punctuations, text_with_a_date, text_with_dates, text_with_duplicates,\n",
    "        emoticon, link]\n",
    "df = pd.DataFrame(data, columns=['text'])"
   ]
  },
  {
   "cell_type": "code",
   "execution_count": 4,
   "metadata": {},
   "outputs": [],
   "source": [
    "wiz = Wizard()"
   ]
  },
  {
   "cell_type": "code",
   "execution_count": 9,
   "metadata": {},
   "outputs": [
    {
     "data": {
      "text/plain": [
       "0        halooooo    guysss    apa   kabar    kalian...\n",
       "1     gw kangen, deh u u u sama anda semua! +6288145...\n",
       "2         testing 1 + 2 lima enam 1 2 3 + - * #ggwp #gw\n",
       "3            tunggu TUNGGU gwww yaaa u U g G a b Q wkwk\n",
       "4     Rp 20.000  aja rstezz16@gmail.com adalah email...\n",
       "5     I love soccer_ball very much grinning_face_wit...\n",
       "6     2833047 people live in this area. It is not a ...\n",
       "7            2833047 and 1111 people live in this area.\n",
       "8     This sentence doesn't seem to too many commas,...\n",
       "9     Todays date is 04/28/2020 for format mm/dd/yyy...\n",
       "10    Todays date is 28/04/2020 and tomorrow's date ...\n",
       "11    Everyone here is so hardworking. Hardworking p...\n",
       "12                one thousand Good Morning guys :-) :)\n",
       "13    zz https://towardsdatascience.com/essential-te...\n",
       "Name: text, dtype: object"
      ]
     },
     "execution_count": 9,
     "metadata": {},
     "output_type": "execute_result"
    }
   ],
   "source": [
    "wiz.emoji_to_word(df.text)"
   ]
  },
  {
   "cell_type": "code",
   "execution_count": null,
   "metadata": {},
   "outputs": [],
   "source": []
  }
 ],
 "metadata": {
  "kernelspec": {
   "display_name": "Python 3",
   "language": "python",
   "name": "python3"
  },
  "language_info": {
   "codemirror_mode": {
    "name": "ipython",
    "version": 3
   },
   "file_extension": ".py",
   "mimetype": "text/x-python",
   "name": "python",
   "nbconvert_exporter": "python",
   "pygments_lexer": "ipython3",
   "version": "3.8.3"
  }
 },
 "nbformat": 4,
 "nbformat_minor": 4
}
