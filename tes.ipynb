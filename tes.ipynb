{
 "cells": [
  {
   "cell_type": "code",
   "execution_count": 1,
   "metadata": {},
   "outputs": [],
   "source": [
    "from maleo.wizard import Wizard\n",
    "import pandas as pd"
   ]
  },
  {
   "cell_type": "code",
   "execution_count": 2,
   "metadata": {},
   "outputs": [],
   "source": [
    "a = '   halooooo    guysss    apa   kabar    kaliann ? +62 361 222777'\n",
    "b = 'gw kangen, deh u u u sama anda semua! 08134455555' \n",
    "c = 'testing 1 + 2 lima enam 1 2 3 + - * #ggwp #gw'\n",
    "d = 'tunggu TUNGGU gwww yaaa u U g G a b Q wkwk'\n",
    "e = 'Rp 20.000  aja rstezz16@gmail.com adalah email kantor gw #coba2'\n",
    "text_with_emojis = \"I love ⚽ very much 😁.\"\n",
    "text_with_a_number = '2833047 people live in this area. It is not a good area.'\n",
    "text_with_two_numbers = '2833047 and 1111 people live in this area.'\n",
    "text_with_punctuations = \"This sentence doesn't seem to too many commas, periods or semi-colons (;).\"\n",
    "text_with_a_date = \"Todays date is 04/28/2020 for format mm/dd/yyyy, not 28/04/2020.\"\n",
    "text_with_dates = \"Todays date is 28/04/2020 and tomorrow's date is 29/04/2020.\"\n",
    "text_with_duplicates = 'Everyone here is so hardworking. Hardworking people. I think hardworking people are a good trait in our company.'"
   ]
  },
  {
   "cell_type": "code",
   "execution_count": 3,
   "metadata": {},
   "outputs": [],
   "source": [
    "data = [a, b, c, d, e, text_with_emojis, text_with_a_number, text_with_two_numbers, \n",
    "        text_with_punctuations, text_with_a_date, text_with_dates, text_with_duplicates]\n",
    "df = pd.DataFrame(data, columns=['text'])"
   ]
  },
  {
   "cell_type": "code",
   "execution_count": 4,
   "metadata": {},
   "outputs": [],
   "source": [
    "wiz = Wizard()"
   ]
  },
  {
   "cell_type": "code",
   "execution_count": 5,
   "metadata": {},
   "outputs": [
    {
     "output_type": "execute_result",
     "data": {
      "text/plain": [
       "                                                 text  chars_count  \\\n",
       "0      halooooo    guysss    apa   kabar    kalian...           64   \n",
       "1   gw kangen, deh u u u sama anda semua! 08134455555           49   \n",
       "2       testing 1 + 2 lima enam 1 2 3 + - * #ggwp #gw           45   \n",
       "3          tunggu TUNGGU gwww yaaa u U g G a b Q wkwk           42   \n",
       "4   Rp 20.000  aja rstezz16@gmail.com adalah email...           63   \n",
       "5                               I love ⚽ very much 😁.           21   \n",
       "6   2833047 people live in this area. It is not a ...           56   \n",
       "7          2833047 and 1111 people live in this area.           42   \n",
       "8   This sentence doesn't seem to too many commas,...           74   \n",
       "9   Todays date is 04/28/2020 for format mm/dd/yyy...           64   \n",
       "10  Todays date is 28/04/2020 and tomorrow's date ...           60   \n",
       "11  Everyone here is so hardworking. Hardworking p...          112   \n",
       "\n",
       "    words_count  emojis_count  numbers_count  punctuations_count  dates_count  \n",
       "0             5             0              3                   2            0  \n",
       "1             9             0              1                   2            0  \n",
       "2             5             0              5                   6            0  \n",
       "3            12             0              0                   0            0  \n",
       "4             8             0              4                   4            0  \n",
       "5             4             2              0                   1            0  \n",
       "6            11             0              1                   2            0  \n",
       "7             6             0              2                   1            0  \n",
       "8            13             0              0                   7            0  \n",
       "9             9             0              6                   8            1  \n",
       "10            8             0              6                   6            2  \n",
       "11           18             0              0                   3            0  "
      ],
      "text/html": "<div>\n<style scoped>\n    .dataframe tbody tr th:only-of-type {\n        vertical-align: middle;\n    }\n\n    .dataframe tbody tr th {\n        vertical-align: top;\n    }\n\n    .dataframe thead th {\n        text-align: right;\n    }\n</style>\n<table border=\"1\" class=\"dataframe\">\n  <thead>\n    <tr style=\"text-align: right;\">\n      <th></th>\n      <th>text</th>\n      <th>chars_count</th>\n      <th>words_count</th>\n      <th>emojis_count</th>\n      <th>numbers_count</th>\n      <th>punctuations_count</th>\n      <th>dates_count</th>\n    </tr>\n  </thead>\n  <tbody>\n    <tr>\n      <th>0</th>\n      <td>halooooo    guysss    apa   kabar    kalian...</td>\n      <td>64</td>\n      <td>5</td>\n      <td>0</td>\n      <td>3</td>\n      <td>2</td>\n      <td>0</td>\n    </tr>\n    <tr>\n      <th>1</th>\n      <td>gw kangen, deh u u u sama anda semua! 08134455555</td>\n      <td>49</td>\n      <td>9</td>\n      <td>0</td>\n      <td>1</td>\n      <td>2</td>\n      <td>0</td>\n    </tr>\n    <tr>\n      <th>2</th>\n      <td>testing 1 + 2 lima enam 1 2 3 + - * #ggwp #gw</td>\n      <td>45</td>\n      <td>5</td>\n      <td>0</td>\n      <td>5</td>\n      <td>6</td>\n      <td>0</td>\n    </tr>\n    <tr>\n      <th>3</th>\n      <td>tunggu TUNGGU gwww yaaa u U g G a b Q wkwk</td>\n      <td>42</td>\n      <td>12</td>\n      <td>0</td>\n      <td>0</td>\n      <td>0</td>\n      <td>0</td>\n    </tr>\n    <tr>\n      <th>4</th>\n      <td>Rp 20.000  aja rstezz16@gmail.com adalah email...</td>\n      <td>63</td>\n      <td>8</td>\n      <td>0</td>\n      <td>4</td>\n      <td>4</td>\n      <td>0</td>\n    </tr>\n    <tr>\n      <th>5</th>\n      <td>I love ⚽ very much 😁.</td>\n      <td>21</td>\n      <td>4</td>\n      <td>2</td>\n      <td>0</td>\n      <td>1</td>\n      <td>0</td>\n    </tr>\n    <tr>\n      <th>6</th>\n      <td>2833047 people live in this area. It is not a ...</td>\n      <td>56</td>\n      <td>11</td>\n      <td>0</td>\n      <td>1</td>\n      <td>2</td>\n      <td>0</td>\n    </tr>\n    <tr>\n      <th>7</th>\n      <td>2833047 and 1111 people live in this area.</td>\n      <td>42</td>\n      <td>6</td>\n      <td>0</td>\n      <td>2</td>\n      <td>1</td>\n      <td>0</td>\n    </tr>\n    <tr>\n      <th>8</th>\n      <td>This sentence doesn't seem to too many commas,...</td>\n      <td>74</td>\n      <td>13</td>\n      <td>0</td>\n      <td>0</td>\n      <td>7</td>\n      <td>0</td>\n    </tr>\n    <tr>\n      <th>9</th>\n      <td>Todays date is 04/28/2020 for format mm/dd/yyy...</td>\n      <td>64</td>\n      <td>9</td>\n      <td>0</td>\n      <td>6</td>\n      <td>8</td>\n      <td>1</td>\n    </tr>\n    <tr>\n      <th>10</th>\n      <td>Todays date is 28/04/2020 and tomorrow's date ...</td>\n      <td>60</td>\n      <td>8</td>\n      <td>0</td>\n      <td>6</td>\n      <td>6</td>\n      <td>2</td>\n    </tr>\n    <tr>\n      <th>11</th>\n      <td>Everyone here is so hardworking. Hardworking p...</td>\n      <td>112</td>\n      <td>18</td>\n      <td>0</td>\n      <td>0</td>\n      <td>3</td>\n      <td>0</td>\n    </tr>\n  </tbody>\n</table>\n</div>"
     },
     "metadata": {},
     "execution_count": 5
    }
   ],
   "source": [
    "df_scan = wiz.scan_text(df, 'text')\n",
    "df_scan"
   ]
  },
  {
   "cell_type": "code",
   "execution_count": 7,
   "metadata": {},
   "outputs": [
    {
     "output_type": "execute_result",
     "data": {
      "text/plain": [
       "0        halooooo    guysss    apa   kabar    kalian...\n",
       "1     gw kangen, deh u u u sama anda semua! 08134455555\n",
       "2         testing 1 + 2 lima enam 1 2 3 + - * #ggwp #gw\n",
       "3            tunggu TUNGGU gwww yaaa u U g G a b Q wkwk\n",
       "4     Rp 20.000  aja <EMAIL> adalah email kantor gw ...\n",
       "5                                 I love ⚽ very much 😁.\n",
       "6     2833047 people live in this area. It is not a ...\n",
       "7            2833047 and 1111 people live in this area.\n",
       "8     This sentence doesn't seem to too many commas,...\n",
       "9     Todays date is 04/28/2020 for format mm/dd/yyy...\n",
       "10    Todays date is <DATE> and tomorrow's date is <...\n",
       "11    Everyone here is so hardworking. Hardworking p...\n",
       "Name: text, dtype: object"
      ]
     },
     "metadata": {},
     "execution_count": 7
    }
   ],
   "source": [
    "wiz.encode_text(df.text)"
   ]
  },
  {
   "cell_type": "code",
   "execution_count": 8,
   "metadata": {},
   "outputs": [
    {
     "output_type": "execute_result",
     "data": {
      "text/plain": [
       "0                                  guys kabar 62 361 27\n",
       "1                                  gw kangen deh 081345\n",
       "2                        testing 1 2 enam 1 2 3 ggwp gw\n",
       "3                             tunggu TUNGGU gw U G wkwk\n",
       "4             Rp 20 0 aja <EMAIL> email kantor gw coba2\n",
       "5                                      I love very much\n",
       "6     283047 people live in this area It is not god ...\n",
       "7                 283047 and 1 people live in this area\n",
       "8     This sentence doesn sem to to many comas perio...\n",
       "9       Todays date is 04 28 2020 for format not <DATE>\n",
       "10     Todays date is <DATE> and tomorow date is <DATE>\n",
       "11    Everyone here is so hardworking Hardworking pe...\n",
       "dtype: object"
      ]
     },
     "metadata": {},
     "execution_count": 8
    }
   ],
   "source": [
    "wiz.clean_text(res)"
   ]
  },
  {
   "cell_type": "code",
   "execution_count": 9,
   "metadata": {},
   "outputs": [
    {
     "output_type": "execute_result",
     "data": {
      "text/plain": [
       "0     halooooo    guysss    apa   kabar    kalian ? ...\n",
       "1     gue kangen, deh lu lu lu sama kamu semua! 0813...\n",
       "2        testing 1 + 2 lima enam 1 2 3 + - * #ggwp #gue\n",
       "3     tunggu TUNGGU gwww ya lu lu enggak enggak a b ...\n",
       "4     Rp 20.000  saja <EMAIL> adalah email kantor gu...\n",
       "5                           anda cinta ⚽ sangat much 😁.\n",
       "6     2833047 orang langsung ini ini area. itu is no...\n",
       "7         2833047 dan 1111 orang langsung ini ini area.\n",
       "8     ini sentence doesn't seem tapi too many commas...\n",
       "9     Todays date is 04/28/2020 untuk format mm/dd/y...\n",
       "10    Todays date is <DATE> dan tomorrow'sih date is...\n",
       "11    Everyone disini is sok hardworking. Hardworkin...\n",
       "Name: text, dtype: object"
      ]
     },
     "metadata": {},
     "execution_count": 9
    }
   ],
   "source": [
    "wiz.preprocessing(res)"
   ]
  },
  {
   "cell_type": "code",
   "execution_count": 10,
   "metadata": {},
   "outputs": [
    {
     "output_type": "execute_result",
     "data": {
      "text/plain": [
       "                                                Text  \\\n",
       "0  Rp 20.000  aja <EMAIL> adalah email kantor gw ...   \n",
       "\n",
       "                                           Price  \n",
       "0  Price(amount=Decimal('20000'), currency='Rp')  "
      ],
      "text/html": "<div>\n<style scoped>\n    .dataframe tbody tr th:only-of-type {\n        vertical-align: middle;\n    }\n\n    .dataframe tbody tr th {\n        vertical-align: top;\n    }\n\n    .dataframe thead th {\n        text-align: right;\n    }\n</style>\n<table border=\"1\" class=\"dataframe\">\n  <thead>\n    <tr style=\"text-align: right;\">\n      <th></th>\n      <th>Text</th>\n      <th>Price</th>\n    </tr>\n  </thead>\n  <tbody>\n    <tr>\n      <th>0</th>\n      <td>Rp 20.000  aja &lt;EMAIL&gt; adalah email kantor gw ...</td>\n      <td>Price(amount=Decimal('20000'), currency='Rp')</td>\n    </tr>\n  </tbody>\n</table>\n</div>"
     },
     "metadata": {},
     "execution_count": 10
    }
   ],
   "source": [
    "wiz.price_parser(res)"
   ]
  },
  {
   "cell_type": "code",
   "execution_count": 11,
   "metadata": {},
   "outputs": [
    {
     "output_type": "execute_result",
     "data": {
      "text/plain": [
       "                                                Text     Hashtag\n",
       "0      testing 1 + 2 lima enam 1 2 3 + - * #ggwp #gw  [ggwp, gw]\n",
       "1  Rp 20.000  aja <EMAIL> adalah email kantor gw ...     [coba2]"
      ],
      "text/html": "<div>\n<style scoped>\n    .dataframe tbody tr th:only-of-type {\n        vertical-align: middle;\n    }\n\n    .dataframe tbody tr th {\n        vertical-align: top;\n    }\n\n    .dataframe thead th {\n        text-align: right;\n    }\n</style>\n<table border=\"1\" class=\"dataframe\">\n  <thead>\n    <tr style=\"text-align: right;\">\n      <th></th>\n      <th>Text</th>\n      <th>Hashtag</th>\n    </tr>\n  </thead>\n  <tbody>\n    <tr>\n      <th>0</th>\n      <td>testing 1 + 2 lima enam 1 2 3 + - * #ggwp #gw</td>\n      <td>[ggwp, gw]</td>\n    </tr>\n    <tr>\n      <th>1</th>\n      <td>Rp 20.000  aja &lt;EMAIL&gt; adalah email kantor gw ...</td>\n      <td>[coba2]</td>\n    </tr>\n  </tbody>\n</table>\n</div>"
     },
     "metadata": {},
     "execution_count": 11
    }
   ],
   "source": [
    "wiz.hashtag_parser(res)"
   ]
  },
  {
   "cell_type": "code",
   "execution_count": null,
   "metadata": {},
   "outputs": [],
   "source": []
  }
 ],
 "metadata": {
  "kernelspec": {
   "display_name": "Python 3",
   "language": "python",
   "name": "python3"
  },
  "language_info": {
   "codemirror_mode": {
    "name": "ipython",
    "version": 3
   },
   "file_extension": ".py",
   "mimetype": "text/x-python",
   "name": "python",
   "nbconvert_exporter": "python",
   "pygments_lexer": "ipython3",
   "version": "3.8.3-final"
  }
 },
 "nbformat": 4,
 "nbformat_minor": 4
}